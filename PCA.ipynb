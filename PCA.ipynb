{
 "cells": [
  {
   "cell_type": "code",
   "execution_count": 39,
   "id": "17e692d9",
   "metadata": {},
   "outputs": [
    {
     "data": {
      "application/vnd.microsoft.datawrangler.viewer.v0+json": {
       "columns": [
        {
         "name": "index",
         "rawType": "int64",
         "type": "integer"
        },
        {
         "name": "sepal length (cm)",
         "rawType": "float64",
         "type": "float"
        },
        {
         "name": "sepal width (cm)",
         "rawType": "float64",
         "type": "float"
        }
       ],
       "ref": "9742041f-d91a-4ff9-9428-ad47a0ff0d3c",
       "rows": [
        [
         "0",
         "5.1",
         "3.5"
        ],
        [
         "1",
         "4.9",
         "3.0"
        ],
        [
         "2",
         "4.7",
         "3.2"
        ],
        [
         "3",
         "4.6",
         "3.1"
        ],
        [
         "4",
         "5.0",
         "3.6"
        ],
        [
         "5",
         "5.4",
         "3.9"
        ],
        [
         "6",
         "4.6",
         "3.4"
        ],
        [
         "7",
         "5.0",
         "3.4"
        ],
        [
         "8",
         "4.4",
         "2.9"
        ],
        [
         "9",
         "4.9",
         "3.1"
        ],
        [
         "10",
         "5.4",
         "3.7"
        ],
        [
         "11",
         "4.8",
         "3.4"
        ],
        [
         "12",
         "4.8",
         "3.0"
        ],
        [
         "13",
         "4.3",
         "3.0"
        ],
        [
         "14",
         "5.8",
         "4.0"
        ],
        [
         "15",
         "5.7",
         "4.4"
        ],
        [
         "16",
         "5.4",
         "3.9"
        ],
        [
         "17",
         "5.1",
         "3.5"
        ],
        [
         "18",
         "5.7",
         "3.8"
        ],
        [
         "19",
         "5.1",
         "3.8"
        ],
        [
         "20",
         "5.4",
         "3.4"
        ],
        [
         "21",
         "5.1",
         "3.7"
        ],
        [
         "22",
         "4.6",
         "3.6"
        ],
        [
         "23",
         "5.1",
         "3.3"
        ],
        [
         "24",
         "4.8",
         "3.4"
        ],
        [
         "25",
         "5.0",
         "3.0"
        ],
        [
         "26",
         "5.0",
         "3.4"
        ],
        [
         "27",
         "5.2",
         "3.5"
        ],
        [
         "28",
         "5.2",
         "3.4"
        ],
        [
         "29",
         "4.7",
         "3.2"
        ],
        [
         "30",
         "4.8",
         "3.1"
        ],
        [
         "31",
         "5.4",
         "3.4"
        ],
        [
         "32",
         "5.2",
         "4.1"
        ],
        [
         "33",
         "5.5",
         "4.2"
        ],
        [
         "34",
         "4.9",
         "3.1"
        ],
        [
         "35",
         "5.0",
         "3.2"
        ],
        [
         "36",
         "5.5",
         "3.5"
        ],
        [
         "37",
         "4.9",
         "3.6"
        ],
        [
         "38",
         "4.4",
         "3.0"
        ],
        [
         "39",
         "5.1",
         "3.4"
        ],
        [
         "40",
         "5.0",
         "3.5"
        ],
        [
         "41",
         "4.5",
         "2.3"
        ],
        [
         "42",
         "4.4",
         "3.2"
        ],
        [
         "43",
         "5.0",
         "3.5"
        ],
        [
         "44",
         "5.1",
         "3.8"
        ],
        [
         "45",
         "4.8",
         "3.0"
        ],
        [
         "46",
         "5.1",
         "3.8"
        ],
        [
         "47",
         "4.6",
         "3.2"
        ],
        [
         "48",
         "5.3",
         "3.7"
        ],
        [
         "49",
         "5.0",
         "3.3"
        ]
       ],
       "shape": {
        "columns": 2,
        "rows": 150
       }
      },
      "text/html": [
       "<div>\n",
       "<style scoped>\n",
       "    .dataframe tbody tr th:only-of-type {\n",
       "        vertical-align: middle;\n",
       "    }\n",
       "\n",
       "    .dataframe tbody tr th {\n",
       "        vertical-align: top;\n",
       "    }\n",
       "\n",
       "    .dataframe thead th {\n",
       "        text-align: right;\n",
       "    }\n",
       "</style>\n",
       "<table border=\"1\" class=\"dataframe\">\n",
       "  <thead>\n",
       "    <tr style=\"text-align: right;\">\n",
       "      <th></th>\n",
       "      <th>sepal length (cm)</th>\n",
       "      <th>sepal width (cm)</th>\n",
       "    </tr>\n",
       "  </thead>\n",
       "  <tbody>\n",
       "    <tr>\n",
       "      <th>0</th>\n",
       "      <td>5.1</td>\n",
       "      <td>3.5</td>\n",
       "    </tr>\n",
       "    <tr>\n",
       "      <th>1</th>\n",
       "      <td>4.9</td>\n",
       "      <td>3.0</td>\n",
       "    </tr>\n",
       "    <tr>\n",
       "      <th>2</th>\n",
       "      <td>4.7</td>\n",
       "      <td>3.2</td>\n",
       "    </tr>\n",
       "    <tr>\n",
       "      <th>3</th>\n",
       "      <td>4.6</td>\n",
       "      <td>3.1</td>\n",
       "    </tr>\n",
       "    <tr>\n",
       "      <th>4</th>\n",
       "      <td>5.0</td>\n",
       "      <td>3.6</td>\n",
       "    </tr>\n",
       "    <tr>\n",
       "      <th>...</th>\n",
       "      <td>...</td>\n",
       "      <td>...</td>\n",
       "    </tr>\n",
       "    <tr>\n",
       "      <th>145</th>\n",
       "      <td>6.7</td>\n",
       "      <td>3.0</td>\n",
       "    </tr>\n",
       "    <tr>\n",
       "      <th>146</th>\n",
       "      <td>6.3</td>\n",
       "      <td>2.5</td>\n",
       "    </tr>\n",
       "    <tr>\n",
       "      <th>147</th>\n",
       "      <td>6.5</td>\n",
       "      <td>3.0</td>\n",
       "    </tr>\n",
       "    <tr>\n",
       "      <th>148</th>\n",
       "      <td>6.2</td>\n",
       "      <td>3.4</td>\n",
       "    </tr>\n",
       "    <tr>\n",
       "      <th>149</th>\n",
       "      <td>5.9</td>\n",
       "      <td>3.0</td>\n",
       "    </tr>\n",
       "  </tbody>\n",
       "</table>\n",
       "<p>150 rows × 2 columns</p>\n",
       "</div>"
      ],
      "text/plain": [
       "     sepal length (cm)  sepal width (cm)\n",
       "0                  5.1               3.5\n",
       "1                  4.9               3.0\n",
       "2                  4.7               3.2\n",
       "3                  4.6               3.1\n",
       "4                  5.0               3.6\n",
       "..                 ...               ...\n",
       "145                6.7               3.0\n",
       "146                6.3               2.5\n",
       "147                6.5               3.0\n",
       "148                6.2               3.4\n",
       "149                5.9               3.0\n",
       "\n",
       "[150 rows x 2 columns]"
      ]
     },
     "execution_count": 39,
     "metadata": {},
     "output_type": "execute_result"
    }
   ],
   "source": [
    "# PCA for read data and plotting\n",
    "from sklearn.cluster import KMeans\n",
    "import sklearn.datasets\n",
    "import matplotlib.pyplot as plt\n",
    "\n",
    "dataset = sklearn.datasets.load_iris(as_frame=True)\n",
    "\n",
    "X = (dataset\n",
    "     ['data']\n",
    "     .loc[:, ['sepal length (cm)', 'sepal width (cm)']]\n",
    ")\n",
    "y = dataset['target']\n",
    "\n",
    "X\n"
   ]
  },
  {
   "cell_type": "code",
   "execution_count": 40,
   "id": "a880acf1",
   "metadata": {},
   "outputs": [],
   "source": [
    "from sklearn.decomposition import PCA\n",
    "pca = PCA(n_components=2)\n",
    "pca.fit(X)\n",
    "X_pca = pca.transform(X)\n",
    "\n",
    "\n"
   ]
  },
  {
   "cell_type": "code",
   "execution_count": 41,
   "id": "b8128cee",
   "metadata": {},
   "outputs": [
    {
     "data": {
      "application/vnd.microsoft.datawrangler.viewer.v0+json": {
       "columns": [
        {
         "name": "index",
         "rawType": "int64",
         "type": "integer"
        },
        {
         "name": "pca0",
         "rawType": "float64",
         "type": "float"
        },
        {
         "name": "pca1",
         "rawType": "float64",
         "type": "float"
        }
       ],
       "ref": "502ba57c-990f-4b87-8089-b65bc1903e67",
       "rows": [
        [
         "0",
         "-0.7781477979332427",
         "0.37813255188342376"
        ],
        [
         "1",
         "-0.9350903132784012",
         "-0.13700728047001975"
        ],
        [
         "2",
         "-1.1513076429638245",
         "0.045338726735252965"
        ],
        [
         "3",
         "-1.2424806465664604",
         "-0.06276993810745823"
        ],
        [
         "4",
         "-0.886256462775953",
         "0.46930555548606057"
        ],
        [
         "5",
         "-0.5130966177453704",
         "0.8020993806342314"
        ],
        [
         "6",
         "-1.2678841384265729",
         "0.23615256456056288"
        ],
        [
         "7",
         "-0.8693208015358778",
         "0.27002388704071256"
        ],
        [
         "8",
         "-1.4248266537717331",
         "-0.2789872677928811"
        ],
        [
         "9",
         "-0.9435581438984384",
         "-0.03736644624734575"
        ],
        [
         "10",
         "-0.4961609565052951",
         "0.6028177121888842"
        ],
        [
         "11",
         "-1.0686024699812258",
         "0.2530882258006377"
        ],
        [
         "12",
         "-1.034731147501076",
         "-0.1454751110900574"
        ],
        [
         "13",
         "-1.5329353186144443",
         "-0.18781426419024472"
        ],
        [
         "14",
         "-0.12300111147471249",
         "0.935611537337055"
        ],
        [
         "15",
         "-0.25651326817753617",
         "1.325707043607713"
        ],
        [
         "16",
         "-0.5130966177453704",
         "0.8020993806342314"
        ],
        [
         "17",
         "-0.7781477979332427",
         "0.37813255188342376"
        ],
        [
         "18",
         "-0.2057062844573121",
         "0.7278620382716698"
        ],
        [
         "19",
         "-0.8035512897933552",
         "0.6770550545514449"
        ],
        [
         "20",
         "-0.47075746464518264",
         "0.3038952095208627"
        ],
        [
         "21",
         "-0.7950834591733171",
         "0.5774142203287718"
        ],
        [
         "22",
         "-1.2848197996666482",
         "0.43543423300591044"
        ],
        [
         "23",
         "-0.7612121366931675",
         "0.1788508834380762"
        ],
        [
         "24",
         "-1.0686024699812258",
         "0.2530882258006377"
        ],
        [
         "25",
         "-0.8354494790557281",
         "-0.12853944984998256"
        ],
        [
         "26",
         "-0.8693208015358778",
         "0.27002388704071256"
        ],
        [
         "27",
         "-0.6785069637105678",
         "0.3866003825034614"
        ],
        [
         "28",
         "-0.6700391330905298",
         "0.2869595482807874"
        ],
        [
         "29",
         "-1.1513076429638245",
         "0.045338726735252965"
        ],
        [
         "30",
         "-1.0431989781211133",
         "-0.045834276867383394"
        ],
        [
         "31",
         "-0.47075746464518264",
         "0.3038952095208627"
        ],
        [
         "32",
         "-0.7293139474307919",
         "0.9844453878395041"
        ],
        [
         "33",
         "-0.4388592753828089",
         "1.1094897139222906"
        ],
        [
         "34",
         "-0.9435581438984384",
         "-0.03736644624734575"
        ],
        [
         "35",
         "-0.8523851402958034",
         "0.07074221859536545"
        ],
        [
         "36",
         "-0.37958446104254673",
         "0.4120038743635739"
        ],
        [
         "37",
         "-0.9858972969986262",
         "0.46083772486602337"
        ],
        [
         "38",
         "-1.4332944843917703",
         "-0.17934643357020708"
        ],
        [
         "39",
         "-0.7696799673132046",
         "0.2784917176607502"
        ],
        [
         "40",
         "-0.8777886321559158",
         "0.36966472126338656"
        ],
        [
         "41",
         "-1.274378835828835",
         "-0.8683644425088861"
        ],
        [
         "42",
         "-1.4502301456318456",
         "0.019935234875140484"
        ],
        [
         "43",
         "-0.8777886321559158",
         "0.36966472126338656"
        ],
        [
         "44",
         "-0.8035512897933552",
         "0.6770550545514449"
        ],
        [
         "45",
         "-1.034731147501076",
         "-0.1454751110900574"
        ],
        [
         "46",
         "-0.8035512897933552",
         "0.6770550545514449"
        ],
        [
         "47",
         "-1.2509484771864985",
         "0.036870896115215324"
        ],
        [
         "48",
         "-0.5958017907279691",
         "0.594349881568847"
        ],
        [
         "49",
         "-0.8608529709158406",
         "0.170383052818039"
        ]
       ],
       "shape": {
        "columns": 2,
        "rows": 150
       }
      },
      "text/html": [
       "<div>\n",
       "<style scoped>\n",
       "    .dataframe tbody tr th:only-of-type {\n",
       "        vertical-align: middle;\n",
       "    }\n",
       "\n",
       "    .dataframe tbody tr th {\n",
       "        vertical-align: top;\n",
       "    }\n",
       "\n",
       "    .dataframe thead th {\n",
       "        text-align: right;\n",
       "    }\n",
       "</style>\n",
       "<table border=\"1\" class=\"dataframe\">\n",
       "  <thead>\n",
       "    <tr style=\"text-align: right;\">\n",
       "      <th></th>\n",
       "      <th>pca0</th>\n",
       "      <th>pca1</th>\n",
       "    </tr>\n",
       "  </thead>\n",
       "  <tbody>\n",
       "    <tr>\n",
       "      <th>0</th>\n",
       "      <td>-0.778148</td>\n",
       "      <td>0.378133</td>\n",
       "    </tr>\n",
       "    <tr>\n",
       "      <th>1</th>\n",
       "      <td>-0.935090</td>\n",
       "      <td>-0.137007</td>\n",
       "    </tr>\n",
       "    <tr>\n",
       "      <th>2</th>\n",
       "      <td>-1.151308</td>\n",
       "      <td>0.045339</td>\n",
       "    </tr>\n",
       "    <tr>\n",
       "      <th>3</th>\n",
       "      <td>-1.242481</td>\n",
       "      <td>-0.062770</td>\n",
       "    </tr>\n",
       "    <tr>\n",
       "      <th>4</th>\n",
       "      <td>-0.886256</td>\n",
       "      <td>0.469306</td>\n",
       "    </tr>\n",
       "    <tr>\n",
       "      <th>...</th>\n",
       "      <td>...</td>\n",
       "      <td>...</td>\n",
       "    </tr>\n",
       "    <tr>\n",
       "      <th>145</th>\n",
       "      <td>0.858445</td>\n",
       "      <td>0.015414</td>\n",
       "    </tr>\n",
       "    <tr>\n",
       "      <th>146</th>\n",
       "      <td>0.502221</td>\n",
       "      <td>-0.516662</td>\n",
       "    </tr>\n",
       "    <tr>\n",
       "      <th>147</th>\n",
       "      <td>0.659163</td>\n",
       "      <td>-0.001522</td>\n",
       "    </tr>\n",
       "    <tr>\n",
       "      <th>148</th>\n",
       "      <td>0.326369</td>\n",
       "      <td>0.371638</td>\n",
       "    </tr>\n",
       "    <tr>\n",
       "      <th>149</th>\n",
       "      <td>0.061318</td>\n",
       "      <td>-0.052329</td>\n",
       "    </tr>\n",
       "  </tbody>\n",
       "</table>\n",
       "<p>150 rows × 2 columns</p>\n",
       "</div>"
      ],
      "text/plain": [
       "         pca0      pca1\n",
       "0   -0.778148  0.378133\n",
       "1   -0.935090 -0.137007\n",
       "2   -1.151308  0.045339\n",
       "3   -1.242481 -0.062770\n",
       "4   -0.886256  0.469306\n",
       "..        ...       ...\n",
       "145  0.858445  0.015414\n",
       "146  0.502221 -0.516662\n",
       "147  0.659163 -0.001522\n",
       "148  0.326369  0.371638\n",
       "149  0.061318 -0.052329\n",
       "\n",
       "[150 rows x 2 columns]"
      ]
     },
     "execution_count": 41,
     "metadata": {},
     "output_type": "execute_result"
    }
   ],
   "source": [
    "X_pca"
   ]
  },
  {
   "cell_type": "code",
   "execution_count": 43,
   "id": "aeab8680",
   "metadata": {},
   "outputs": [
    {
     "data": {
      "image/png": "[encoded data removed]",
      "text/plain": [
       "<Figure size 800x600 with 1 Axes>"
      ]
     },
     "metadata": {},
     "output_type": "display_data"
    }
   ],
   "source": [
    "#plot the result\n",
    "fig, ax = plt.subplots(figsize=(8, 6))\n",
    "ax.scatter(X_pca.iloc[:, 0], X_pca.iloc[:, 1], c=y, cmap='viridis')\n",
    "ax.set_xlabel('PCA 1')\n",
    "ax.set_ylabel('PCA 2')\n",
    "ax.set_title('PCA of Iris Dataset')\n",
    "plt.show()\n"
   ]
  },
  {
   "cell_type": "code",
   "execution_count": 44,
   "id": "58648655",
   "metadata": {},
   "outputs": [
    {
     "data": {
      "application/vnd.microsoft.datawrangler.viewer.v0+json": {
       "columns": [
        {
         "name": "index",
         "rawType": "int64",
         "type": "integer"
        },
        {
         "name": "sepal length (cm)",
         "rawType": "float64",
         "type": "float"
        },
        {
         "name": "sepal width (cm)",
         "rawType": "float64",
         "type": "float"
        }
       ],
       "ref": "6f01b532-af3e-4add-b5a5-6b694f51f489",
       "rows": [
        [
         "0",
         "5.1",
         "3.5"
        ],
        [
         "1",
         "4.9",
         "3.0"
        ],
        [
         "2",
         "4.7",
         "3.2"
        ],
        [
         "3",
         "4.6",
         "3.1"
        ],
        [
         "4",
         "5.0",
         "3.6"
        ],
        [
         "5",
         "5.4",
         "3.9"
        ],
        [
         "6",
         "4.6",
         "3.4"
        ],
        [
         "7",
         "5.0",
         "3.4"
        ],
        [
         "8",
         "4.4",
         "2.9"
        ],
        [
         "9",
         "4.9",
         "3.1"
        ],
        [
         "10",
         "5.4",
         "3.7"
        ],
        [
         "11",
         "4.8",
         "3.4"
        ],
        [
         "12",
         "4.8",
         "3.0"
        ],
        [
         "13",
         "4.3",
         "3.0"
        ],
        [
         "14",
         "5.8",
         "4.0"
        ],
        [
         "15",
         "5.7",
         "4.4"
        ],
        [
         "16",
         "5.4",
         "3.9"
        ],
        [
         "17",
         "5.1",
         "3.5"
        ],
        [
         "18",
         "5.7",
         "3.8"
        ],
        [
         "19",
         "5.1",
         "3.8"
        ],
        [
         "20",
         "5.4",
         "3.4"
        ],
        [
         "21",
         "5.1",
         "3.7"
        ],
        [
         "22",
         "4.6",
         "3.6"
        ],
        [
         "23",
         "5.1",
         "3.3"
        ],
        [
         "24",
         "4.8",
         "3.4"
        ],
        [
         "25",
         "5.0",
         "3.0"
        ],
        [
         "26",
         "5.0",
         "3.4"
        ],
        [
         "27",
         "5.2",
         "3.5"
        ],
        [
         "28",
         "5.2",
         "3.4"
        ],
        [
         "29",
         "4.7",
         "3.2"
        ],
        [
         "30",
         "4.8",
         "3.1"
        ],
        [
         "31",
         "5.4",
         "3.4"
        ],
        [
         "32",
         "5.2",
         "4.1"
        ],
        [
         "33",
         "5.5",
         "4.2"
        ],
        [
         "34",
         "4.9",
         "3.1"
        ],
        [
         "35",
         "5.0",
         "3.2"
        ],
        [
         "36",
         "5.5",
         "3.5"
        ],
        [
         "37",
         "4.9",
         "3.6"
        ],
        [
         "38",
         "4.4",
         "3.0"
        ],
        [
         "39",
         "5.1",
         "3.4"
        ],
        [
         "40",
         "5.0",
         "3.5"
        ],
        [
         "41",
         "4.5",
         "2.3"
        ],
        [
         "42",
         "4.4",
         "3.2"
        ],
        [
         "43",
         "5.0",
         "3.5"
        ],
        [
         "44",
         "5.1",
         "3.8"
        ],
        [
         "45",
         "4.8",
         "3.0"
        ],
        [
         "46",
         "5.1",
         "3.8"
        ],
        [
         "47",
         "4.6",
         "3.2"
        ],
        [
         "48",
         "5.3",
         "3.7"
        ],
        [
         "49",
         "5.0",
         "3.3"
        ]
       ],
       "shape": {
        "columns": 2,
        "rows": 150
       }
      },
      "text/html": [
       "<div>\n",
       "<style scoped>\n",
       "    .dataframe tbody tr th:only-of-type {\n",
       "        vertical-align: middle;\n",
       "    }\n",
       "\n",
       "    .dataframe tbody tr th {\n",
       "        vertical-align: top;\n",
       "    }\n",
       "\n",
       "    .dataframe thead th {\n",
       "        text-align: right;\n",
       "    }\n",
       "</style>\n",
       "<table border=\"1\" class=\"dataframe\">\n",
       "  <thead>\n",
       "    <tr style=\"text-align: right;\">\n",
       "      <th></th>\n",
       "      <th>sepal length (cm)</th>\n",
       "      <th>sepal width (cm)</th>\n",
       "    </tr>\n",
       "  </thead>\n",
       "  <tbody>\n",
       "    <tr>\n",
       "      <th>0</th>\n",
       "      <td>5.1</td>\n",
       "      <td>3.5</td>\n",
       "    </tr>\n",
       "    <tr>\n",
       "      <th>1</th>\n",
       "      <td>4.9</td>\n",
       "      <td>3.0</td>\n",
       "    </tr>\n",
       "    <tr>\n",
       "      <th>2</th>\n",
       "      <td>4.7</td>\n",
       "      <td>3.2</td>\n",
       "    </tr>\n",
       "    <tr>\n",
       "      <th>3</th>\n",
       "      <td>4.6</td>\n",
       "      <td>3.1</td>\n",
       "    </tr>\n",
       "    <tr>\n",
       "      <th>4</th>\n",
       "      <td>5.0</td>\n",
       "      <td>3.6</td>\n",
       "    </tr>\n",
       "    <tr>\n",
       "      <th>...</th>\n",
       "      <td>...</td>\n",
       "      <td>...</td>\n",
       "    </tr>\n",
       "    <tr>\n",
       "      <th>145</th>\n",
       "      <td>6.7</td>\n",
       "      <td>3.0</td>\n",
       "    </tr>\n",
       "    <tr>\n",
       "      <th>146</th>\n",
       "      <td>6.3</td>\n",
       "      <td>2.5</td>\n",
       "    </tr>\n",
       "    <tr>\n",
       "      <th>147</th>\n",
       "      <td>6.5</td>\n",
       "      <td>3.0</td>\n",
       "    </tr>\n",
       "    <tr>\n",
       "      <th>148</th>\n",
       "      <td>6.2</td>\n",
       "      <td>3.4</td>\n",
       "    </tr>\n",
       "    <tr>\n",
       "      <th>149</th>\n",
       "      <td>5.9</td>\n",
       "      <td>3.0</td>\n",
       "    </tr>\n",
       "  </tbody>\n",
       "</table>\n",
       "<p>150 rows × 2 columns</p>\n",
       "</div>"
      ],
      "text/plain": [
       "     sepal length (cm)  sepal width (cm)\n",
       "0                  5.1               3.5\n",
       "1                  4.9               3.0\n",
       "2                  4.7               3.2\n",
       "3                  4.6               3.1\n",
       "4                  5.0               3.6\n",
       "..                 ...               ...\n",
       "145                6.7               3.0\n",
       "146                6.3               2.5\n",
       "147                6.5               3.0\n",
       "148                6.2               3.4\n",
       "149                5.9               3.0\n",
       "\n",
       "[150 rows x 2 columns]"
      ]
     },
     "execution_count": 44,
     "metadata": {},
     "output_type": "execute_result"
    }
   ],
   "source": [
    "X"
   ]
  },
  {
   "cell_type": "code",
   "execution_count": 46,
   "id": "2bfd472e",
   "metadata": {},
   "outputs": [
    {
     "data": {
      "image/png": "[encoded data removed]",
      "text/plain": [
       "<Figure size 800x600 with 1 Axes>"
      ]
     },
     "metadata": {},
     "output_type": "display_data"
    }
   ],
   "source": [
    "# run PCA on all of the Iris dataset\n",
    "pca = PCA()\n",
    "\n",
    "X_all = ( dataset\n",
    "         ['data']\n",
    "         #.loc[:, ['sepal length (cm)', 'sepal width (cm)', 'petal length (cm)', 'petal width (cm)']]\n",
    "            )\n",
    "\n",
    "pca.fit(X_all)\n",
    "X_pca = pca.transform(X_all)\n",
    "\n",
    "#plot to first 2 components\n",
    "fig, ax = plt.subplots(figsize=(8, 6))\n",
    "ax.scatter(X_pca.iloc[:, 0], X_pca.iloc[:, 1], c=y, cmap='viridis')\n",
    "ax.set_xlabel('PCA 1')\n",
    "ax.set_ylabel('PCA 2')\n",
    "ax.set_title('PCA of Iris Dataset - all features')  \n",
    "plt.show()  \n"
   ]
  },
  {
   "cell_type": "code",
   "execution_count": 47,
   "id": "42764752",
   "metadata": {},
   "outputs": [
    {
     "data": {
      "application/vnd.microsoft.datawrangler.viewer.v0+json": {
       "columns": [
        {
         "name": "index",
         "rawType": "int64",
         "type": "integer"
        },
        {
         "name": "pca0",
         "rawType": "float64",
         "type": "float"
        },
        {
         "name": "pca1",
         "rawType": "float64",
         "type": "float"
        },
        {
         "name": "pca2",
         "rawType": "float64",
         "type": "float"
        },
        {
         "name": "pca3",
         "rawType": "float64",
         "type": "float"
        }
       ],
       "ref": "9ce14659-40ff-482a-8730-618250edf23a",
       "rows": [
        [
         "0",
         "-2.684125625969534",
         "0.3193972465850976",
         "-0.02791482758942143",
         "0.0022624370713208095"
        ],
        [
         "1",
         "-2.7141416872943225",
         "-0.17700122506478877",
         "-0.2104642723782253",
         "0.09902655032361365"
        ],
        [
         "2",
         "-2.888990569059293",
         "-0.14494942608556105",
         "0.017900256320896535",
         "0.019968389709023752"
        ],
        [
         "3",
         "-2.745342855641406",
         "-0.3182989792519182",
         "0.03155937360567851",
         "-0.07557581661369078"
        ],
        [
         "4",
         "-2.728716536554528",
         "0.32675451293491964",
         "0.09007924055118433",
         "-0.06125859258570624"
        ],
        [
         "5",
         "-2.280859632844491",
         "0.7413304490629162",
         "0.16867765820908265",
         "-0.024200857569544564"
        ],
        [
         "6",
         "-2.820537750740606",
         "-0.08946138452856545",
         "0.2578921582556135",
         "-0.048143106487692246"
        ],
        [
         "7",
         "-2.62614497314663",
         "0.163384959698325",
         "-0.021879317886730254",
         "-0.04529787055192886"
        ],
        [
         "8",
         "-2.8863827317805493",
         "-0.5783117541867062",
         "0.020759570264790916",
         "-0.026744735761796236"
        ],
        [
         "9",
         "-2.672755797820951",
         "-0.11377424587412488",
         "-0.19763272498815143",
         "-0.05629540126886883"
        ],
        [
         "10",
         "-2.506947090651854",
         "0.6450688986485691",
         "-0.07531800937913835",
         "-0.015019924490167265"
        ],
        [
         "11",
         "-2.61275523090872",
         "0.014729939161374439",
         "0.10215025995656735",
         "-0.15637920783220577"
        ],
        [
         "12",
         "-2.7861092661880145",
         "-0.2351120002017275",
         "-0.20684443044963985",
         "-0.007887911493189431"
        ],
        [
         "13",
         "-3.2238037438656484",
         "-0.511394587006385",
         "0.0612996724571091",
         "-0.02167981184682674"
        ],
        [
         "14",
         "-2.644750389942029",
         "1.1787646364375677",
         "-0.15162752361781684",
         "0.1592097176699879"
        ],
        [
         "15",
         "-2.386039033531133",
         "1.338062330400656",
         "0.27777690270310296",
         "0.0065515458674978225"
        ],
        [
         "16",
         "-2.623527875224425",
         "0.8106795141812562",
         "0.13818322788072268",
         "0.16773473722831359"
        ],
        [
         "17",
         "-2.648296706254379",
         "0.311849144593352",
         "0.02666831561259697",
         "0.07762817959771762"
        ],
        [
         "18",
         "-2.199820323617579",
         "0.8728390389622049",
         "-0.12030552339474909",
         "0.027051868141897938"
        ],
        [
         "19",
         "-2.5879863998787664",
         "0.5135603087492795",
         "0.2136651722246935",
         "-0.06627265020160986"
        ],
        [
         "20",
         "-2.310256215242516",
         "0.3913459356538862",
         "-0.23944404324496515",
         "-0.015070790789233353"
        ],
        [
         "21",
         "-2.5437052287571547",
         "0.4329960632790302",
         "0.20845723241671",
         "0.04106540269140783"
        ],
        [
         "22",
         "-3.215939415648609",
         "0.1334680695385293",
         "0.29239675074523974",
         "0.0044821250505271346"
        ],
        [
         "23",
         "-2.3027331822262043",
         "0.09870885481409708",
         "0.039123258742899236",
         "0.1483525892853596"
        ],
        [
         "24",
         "-2.3557540491237696",
         "-0.03728185967738096",
         "0.1250210827028373",
         "-0.3003309039305993"
        ],
        [
         "25",
         "-2.5066689069258183",
         "-0.14601688049527795",
         "-0.2534200423446492",
         "0.034607472215090494"
        ],
        [
         "26",
         "-2.4688200731213366",
         "0.13095148943524837",
         "0.09491057609939646",
         "0.05744971580140016"
        ],
        [
         "27",
         "-2.5623199061960134",
         "0.36771885743419475",
         "-0.07849420513793581",
         "-0.014172742337737528"
        ],
        [
         "28",
         "-2.6395347153845403",
         "0.31203998023527646",
         "-0.14590889573002797",
         "0.06578346672834803"
        ],
        [
         "29",
         "-2.6319893872743427",
         "-0.19696122492431645",
         "0.04077107906716648",
         "-0.12398330638936994"
        ],
        [
         "30",
         "-2.587398476689349",
         "-0.20431849127413848",
         "-0.07722298907343916",
         "-0.06046227673234287"
        ],
        [
         "31",
         "-2.409932497002173",
         "0.41092426422956496",
         "-0.1455249720051084",
         "0.23162849166248936"
        ],
        [
         "32",
         "-2.6488623343499103",
         "0.8133638202969653",
         "0.22566914972005897",
         "-0.2813723470638601"
        ],
        [
         "33",
         "-2.5987367491005857",
         "1.0931457594493592",
         "0.15781081295817878",
         "-0.09534885833340151"
        ],
        [
         "34",
         "-2.636926878105796",
         "-0.1213223478658696",
         "-0.14304958178613303",
         "0.019070341257527983"
        ],
        [
         "35",
         "-2.8662416521186667",
         "0.06936447158007208",
         "-0.16433230665300458",
         "0.16259844627970674"
        ],
        [
         "36",
         "-2.6252380498503705",
         "0.5993700213794124",
         "-0.2683503756939267",
         "0.17644121293240989"
        ],
        [
         "37",
         "-2.8006841154482194",
         "0.2686437377979818",
         "0.09369908247976977",
         "-0.16817305440250907"
        ],
        [
         "38",
         "-2.9805020437819896",
         "-0.4879583444286171",
         "0.07292704569270314",
         "-0.010733147428952768"
        ],
        [
         "39",
         "-2.5900063139680936",
         "0.22904383682700757",
         "-0.08008230301733366",
         "-0.013749151261522825"
        ],
        [
         "40",
         "-2.7701024260278992",
         "0.263527533744254",
         "0.07724769316111035",
         "0.09406335900677606"
        ],
        [
         "41",
         "-2.8493687050430996",
         "-0.9409605736412114",
         "-0.34923037730589723",
         "0.31998748695419693"
        ],
        [
         "42",
         "-2.9974065465949034",
         "-0.34192605747160876",
         "0.19250921171270763",
         "-0.07467776816219479"
        ],
        [
         "43",
         "-2.4056144850974834",
         "0.18887142893026265",
         "0.2638679455134355",
         "0.1762088904875728"
        ],
        [
         "44",
         "-2.2094892377836772",
         "0.43666314163919306",
         "0.29874274575507187",
         "-0.18284250247307118"
        ],
        [
         "45",
         "-2.7144514267577047",
         "-0.25020820418521783",
         "-0.09767814404560304",
         "0.1428435735596042"
        ],
        [
         "46",
         "-2.5381482589989375",
         "0.5037711444614397",
         "0.16670563660476512",
         "-0.18962229142747128"
        ],
        [
         "47",
         "-2.839462167642847",
         "-0.22794556949382816",
         "0.08372684903359084",
         "-0.05956422828084721"
        ],
        [
         "48",
         "-2.5430857498303907",
         "0.5794100215198865",
         "-0.017115024248534505",
         "-0.04656864378057352"
        ],
        [
         "49",
         "-2.7033597823351565",
         "0.10770608249940583",
         "-0.08929400847882252",
         "0.034658338514156804"
        ]
       ],
       "shape": {
        "columns": 4,
        "rows": 150
       }
      },
      "text/html": [
       "<div>\n",
       "<style scoped>\n",
       "    .dataframe tbody tr th:only-of-type {\n",
       "        vertical-align: middle;\n",
       "    }\n",
       "\n",
       "    .dataframe tbody tr th {\n",
       "        vertical-align: top;\n",
       "    }\n",
       "\n",
       "    .dataframe thead th {\n",
       "        text-align: right;\n",
       "    }\n",
       "</style>\n",
       "<table border=\"1\" class=\"dataframe\">\n",
       "  <thead>\n",
       "    <tr style=\"text-align: right;\">\n",
       "      <th></th>\n",
       "      <th>pca0</th>\n",
       "      <th>pca1</th>\n",
       "      <th>pca2</th>\n",
       "      <th>pca3</th>\n",
       "    </tr>\n",
       "  </thead>\n",
       "  <tbody>\n",
       "    <tr>\n",
       "      <th>0</th>\n",
       "      <td>-2.684126</td>\n",
       "      <td>0.319397</td>\n",
       "      <td>-0.027915</td>\n",
       "      <td>0.002262</td>\n",
       "    </tr>\n",
       "    <tr>\n",
       "      <th>1</th>\n",
       "      <td>-2.714142</td>\n",
       "      <td>-0.177001</td>\n",
       "      <td>-0.210464</td>\n",
       "      <td>0.099027</td>\n",
       "    </tr>\n",
       "    <tr>\n",
       "      <th>2</th>\n",
       "      <td>-2.888991</td>\n",
       "      <td>-0.144949</td>\n",
       "      <td>0.017900</td>\n",
       "      <td>0.019968</td>\n",
       "    </tr>\n",
       "    <tr>\n",
       "      <th>3</th>\n",
       "      <td>-2.745343</td>\n",
       "      <td>-0.318299</td>\n",
       "      <td>0.031559</td>\n",
       "      <td>-0.075576</td>\n",
       "    </tr>\n",
       "    <tr>\n",
       "      <th>4</th>\n",
       "      <td>-2.728717</td>\n",
       "      <td>0.326755</td>\n",
       "      <td>0.090079</td>\n",
       "      <td>-0.061259</td>\n",
       "    </tr>\n",
       "    <tr>\n",
       "      <th>...</th>\n",
       "      <td>...</td>\n",
       "      <td>...</td>\n",
       "      <td>...</td>\n",
       "      <td>...</td>\n",
       "    </tr>\n",
       "    <tr>\n",
       "      <th>145</th>\n",
       "      <td>1.944110</td>\n",
       "      <td>0.187532</td>\n",
       "      <td>0.177825</td>\n",
       "      <td>0.426196</td>\n",
       "    </tr>\n",
       "    <tr>\n",
       "      <th>146</th>\n",
       "      <td>1.527167</td>\n",
       "      <td>-0.375317</td>\n",
       "      <td>-0.121898</td>\n",
       "      <td>0.254367</td>\n",
       "    </tr>\n",
       "    <tr>\n",
       "      <th>147</th>\n",
       "      <td>1.764346</td>\n",
       "      <td>0.078859</td>\n",
       "      <td>0.130482</td>\n",
       "      <td>0.137001</td>\n",
       "    </tr>\n",
       "    <tr>\n",
       "      <th>148</th>\n",
       "      <td>1.900942</td>\n",
       "      <td>0.116628</td>\n",
       "      <td>0.723252</td>\n",
       "      <td>0.044595</td>\n",
       "    </tr>\n",
       "    <tr>\n",
       "      <th>149</th>\n",
       "      <td>1.390189</td>\n",
       "      <td>-0.282661</td>\n",
       "      <td>0.362910</td>\n",
       "      <td>-0.155039</td>\n",
       "    </tr>\n",
       "  </tbody>\n",
       "</table>\n",
       "<p>150 rows × 4 columns</p>\n",
       "</div>"
      ],
      "text/plain": [
       "         pca0      pca1      pca2      pca3\n",
       "0   -2.684126  0.319397 -0.027915  0.002262\n",
       "1   -2.714142 -0.177001 -0.210464  0.099027\n",
       "2   -2.888991 -0.144949  0.017900  0.019968\n",
       "3   -2.745343 -0.318299  0.031559 -0.075576\n",
       "4   -2.728717  0.326755  0.090079 -0.061259\n",
       "..        ...       ...       ...       ...\n",
       "145  1.944110  0.187532  0.177825  0.426196\n",
       "146  1.527167 -0.375317 -0.121898  0.254367\n",
       "147  1.764346  0.078859  0.130482  0.137001\n",
       "148  1.900942  0.116628  0.723252  0.044595\n",
       "149  1.390189 -0.282661  0.362910 -0.155039\n",
       "\n",
       "[150 rows x 4 columns]"
      ]
     },
     "execution_count": 47,
     "metadata": {},
     "output_type": "execute_result"
    }
   ],
   "source": [
    "#tell sklearn to output pandas dataframes   \n",
    "sklearn.set_config(transform_output='pandas')\n",
    "\n",
    "pca.transform(X_all)\n",
    "\n"
   ]
  },
  {
   "cell_type": "code",
   "execution_count": 48,
   "id": "130138e8",
   "metadata": {},
   "outputs": [
    {
     "data": {
      "application/vnd.microsoft.datawrangler.viewer.v0+json": {
       "columns": [
        {
         "name": "index",
         "rawType": "int64",
         "type": "integer"
        },
        {
         "name": "PC1",
         "rawType": "float64",
         "type": "float"
        },
        {
         "name": "PC2",
         "rawType": "float64",
         "type": "float"
        },
        {
         "name": "PC3",
         "rawType": "float64",
         "type": "float"
        },
        {
         "name": "PC4",
         "rawType": "float64",
         "type": "float"
        }
       ],
       "ref": "ad62df3e-9b59-477b-9db1-912fc004fb3e",
       "rows": [
        [
         "0",
         "-2.684125625969534",
         "0.3193972465850976",
         "-0.02791482758942143",
         "0.0022624370713208095"
        ],
        [
         "1",
         "-2.7141416872943225",
         "-0.17700122506478877",
         "-0.2104642723782253",
         "0.09902655032361365"
        ],
        [
         "2",
         "-2.888990569059293",
         "-0.14494942608556105",
         "0.017900256320896535",
         "0.019968389709023752"
        ],
        [
         "3",
         "-2.745342855641406",
         "-0.3182989792519182",
         "0.03155937360567851",
         "-0.07557581661369078"
        ],
        [
         "4",
         "-2.728716536554528",
         "0.32675451293491964",
         "0.09007924055118433",
         "-0.06125859258570624"
        ],
        [
         "5",
         "-2.280859632844491",
         "0.7413304490629162",
         "0.16867765820908265",
         "-0.024200857569544564"
        ],
        [
         "6",
         "-2.820537750740606",
         "-0.08946138452856545",
         "0.2578921582556135",
         "-0.048143106487692246"
        ],
        [
         "7",
         "-2.62614497314663",
         "0.163384959698325",
         "-0.021879317886730254",
         "-0.04529787055192886"
        ],
        [
         "8",
         "-2.8863827317805493",
         "-0.5783117541867062",
         "0.020759570264790916",
         "-0.026744735761796236"
        ],
        [
         "9",
         "-2.672755797820951",
         "-0.11377424587412488",
         "-0.19763272498815143",
         "-0.05629540126886883"
        ],
        [
         "10",
         "-2.506947090651854",
         "0.6450688986485691",
         "-0.07531800937913835",
         "-0.015019924490167265"
        ],
        [
         "11",
         "-2.61275523090872",
         "0.014729939161374439",
         "0.10215025995656735",
         "-0.15637920783220577"
        ],
        [
         "12",
         "-2.7861092661880145",
         "-0.2351120002017275",
         "-0.20684443044963985",
         "-0.007887911493189431"
        ],
        [
         "13",
         "-3.2238037438656484",
         "-0.511394587006385",
         "0.0612996724571091",
         "-0.02167981184682674"
        ],
        [
         "14",
         "-2.644750389942029",
         "1.1787646364375677",
         "-0.15162752361781684",
         "0.1592097176699879"
        ],
        [
         "15",
         "-2.386039033531133",
         "1.338062330400656",
         "0.27777690270310296",
         "0.0065515458674978225"
        ],
        [
         "16",
         "-2.623527875224425",
         "0.8106795141812562",
         "0.13818322788072268",
         "0.16773473722831359"
        ],
        [
         "17",
         "-2.648296706254379",
         "0.311849144593352",
         "0.02666831561259697",
         "0.07762817959771762"
        ],
        [
         "18",
         "-2.199820323617579",
         "0.8728390389622049",
         "-0.12030552339474909",
         "0.027051868141897938"
        ],
        [
         "19",
         "-2.5879863998787664",
         "0.5135603087492795",
         "0.2136651722246935",
         "-0.06627265020160986"
        ],
        [
         "20",
         "-2.310256215242516",
         "0.3913459356538862",
         "-0.23944404324496515",
         "-0.015070790789233353"
        ],
        [
         "21",
         "-2.5437052287571547",
         "0.4329960632790302",
         "0.20845723241671",
         "0.04106540269140783"
        ],
        [
         "22",
         "-3.215939415648609",
         "0.1334680695385293",
         "0.29239675074523974",
         "0.0044821250505271346"
        ],
        [
         "23",
         "-2.3027331822262043",
         "0.09870885481409708",
         "0.039123258742899236",
         "0.1483525892853596"
        ],
        [
         "24",
         "-2.3557540491237696",
         "-0.03728185967738096",
         "0.1250210827028373",
         "-0.3003309039305993"
        ],
        [
         "25",
         "-2.5066689069258183",
         "-0.14601688049527795",
         "-0.2534200423446492",
         "0.034607472215090494"
        ],
        [
         "26",
         "-2.4688200731213366",
         "0.13095148943524837",
         "0.09491057609939646",
         "0.05744971580140016"
        ],
        [
         "27",
         "-2.5623199061960134",
         "0.36771885743419475",
         "-0.07849420513793581",
         "-0.014172742337737528"
        ],
        [
         "28",
         "-2.6395347153845403",
         "0.31203998023527646",
         "-0.14590889573002797",
         "0.06578346672834803"
        ],
        [
         "29",
         "-2.6319893872743427",
         "-0.19696122492431645",
         "0.04077107906716648",
         "-0.12398330638936994"
        ],
        [
         "30",
         "-2.587398476689349",
         "-0.20431849127413848",
         "-0.07722298907343916",
         "-0.06046227673234287"
        ],
        [
         "31",
         "-2.409932497002173",
         "0.41092426422956496",
         "-0.1455249720051084",
         "0.23162849166248936"
        ],
        [
         "32",
         "-2.6488623343499103",
         "0.8133638202969653",
         "0.22566914972005897",
         "-0.2813723470638601"
        ],
        [
         "33",
         "-2.5987367491005857",
         "1.0931457594493592",
         "0.15781081295817878",
         "-0.09534885833340151"
        ],
        [
         "34",
         "-2.636926878105796",
         "-0.1213223478658696",
         "-0.14304958178613303",
         "0.019070341257527983"
        ],
        [
         "35",
         "-2.8662416521186667",
         "0.06936447158007208",
         "-0.16433230665300458",
         "0.16259844627970674"
        ],
        [
         "36",
         "-2.6252380498503705",
         "0.5993700213794124",
         "-0.2683503756939267",
         "0.17644121293240989"
        ],
        [
         "37",
         "-2.8006841154482194",
         "0.2686437377979818",
         "0.09369908247976977",
         "-0.16817305440250907"
        ],
        [
         "38",
         "-2.9805020437819896",
         "-0.4879583444286171",
         "0.07292704569270314",
         "-0.010733147428952768"
        ],
        [
         "39",
         "-2.5900063139680936",
         "0.22904383682700757",
         "-0.08008230301733366",
         "-0.013749151261522825"
        ],
        [
         "40",
         "-2.7701024260278992",
         "0.263527533744254",
         "0.07724769316111035",
         "0.09406335900677606"
        ],
        [
         "41",
         "-2.8493687050430996",
         "-0.9409605736412114",
         "-0.34923037730589723",
         "0.31998748695419693"
        ],
        [
         "42",
         "-2.9974065465949034",
         "-0.34192605747160876",
         "0.19250921171270763",
         "-0.07467776816219479"
        ],
        [
         "43",
         "-2.4056144850974834",
         "0.18887142893026265",
         "0.2638679455134355",
         "0.1762088904875728"
        ],
        [
         "44",
         "-2.2094892377836772",
         "0.43666314163919306",
         "0.29874274575507187",
         "-0.18284250247307118"
        ],
        [
         "45",
         "-2.7144514267577047",
         "-0.25020820418521783",
         "-0.09767814404560304",
         "0.1428435735596042"
        ],
        [
         "46",
         "-2.5381482589989375",
         "0.5037711444614397",
         "0.16670563660476512",
         "-0.18962229142747128"
        ],
        [
         "47",
         "-2.839462167642847",
         "-0.22794556949382816",
         "0.08372684903359084",
         "-0.05956422828084721"
        ],
        [
         "48",
         "-2.5430857498303907",
         "0.5794100215198865",
         "-0.017115024248534505",
         "-0.04656864378057352"
        ],
        [
         "49",
         "-2.7033597823351565",
         "0.10770608249940583",
         "-0.08929400847882252",
         "0.034658338514156804"
        ]
       ],
       "shape": {
        "columns": 4,
        "rows": 150
       }
      },
      "text/html": [
       "<div>\n",
       "<style scoped>\n",
       "    .dataframe tbody tr th:only-of-type {\n",
       "        vertical-align: middle;\n",
       "    }\n",
       "\n",
       "    .dataframe tbody tr th {\n",
       "        vertical-align: top;\n",
       "    }\n",
       "\n",
       "    .dataframe thead th {\n",
       "        text-align: right;\n",
       "    }\n",
       "</style>\n",
       "<table border=\"1\" class=\"dataframe\">\n",
       "  <thead>\n",
       "    <tr style=\"text-align: right;\">\n",
       "      <th></th>\n",
       "      <th>PC1</th>\n",
       "      <th>PC2</th>\n",
       "      <th>PC3</th>\n",
       "      <th>PC4</th>\n",
       "    </tr>\n",
       "  </thead>\n",
       "  <tbody>\n",
       "    <tr>\n",
       "      <th>0</th>\n",
       "      <td>-2.684126</td>\n",
       "      <td>0.319397</td>\n",
       "      <td>-0.027915</td>\n",
       "      <td>0.002262</td>\n",
       "    </tr>\n",
       "    <tr>\n",
       "      <th>1</th>\n",
       "      <td>-2.714142</td>\n",
       "      <td>-0.177001</td>\n",
       "      <td>-0.210464</td>\n",
       "      <td>0.099027</td>\n",
       "    </tr>\n",
       "    <tr>\n",
       "      <th>2</th>\n",
       "      <td>-2.888991</td>\n",
       "      <td>-0.144949</td>\n",
       "      <td>0.017900</td>\n",
       "      <td>0.019968</td>\n",
       "    </tr>\n",
       "    <tr>\n",
       "      <th>3</th>\n",
       "      <td>-2.745343</td>\n",
       "      <td>-0.318299</td>\n",
       "      <td>0.031559</td>\n",
       "      <td>-0.075576</td>\n",
       "    </tr>\n",
       "    <tr>\n",
       "      <th>4</th>\n",
       "      <td>-2.728717</td>\n",
       "      <td>0.326755</td>\n",
       "      <td>0.090079</td>\n",
       "      <td>-0.061259</td>\n",
       "    </tr>\n",
       "    <tr>\n",
       "      <th>...</th>\n",
       "      <td>...</td>\n",
       "      <td>...</td>\n",
       "      <td>...</td>\n",
       "      <td>...</td>\n",
       "    </tr>\n",
       "    <tr>\n",
       "      <th>145</th>\n",
       "      <td>1.944110</td>\n",
       "      <td>0.187532</td>\n",
       "      <td>0.177825</td>\n",
       "      <td>0.426196</td>\n",
       "    </tr>\n",
       "    <tr>\n",
       "      <th>146</th>\n",
       "      <td>1.527167</td>\n",
       "      <td>-0.375317</td>\n",
       "      <td>-0.121898</td>\n",
       "      <td>0.254367</td>\n",
       "    </tr>\n",
       "    <tr>\n",
       "      <th>147</th>\n",
       "      <td>1.764346</td>\n",
       "      <td>0.078859</td>\n",
       "      <td>0.130482</td>\n",
       "      <td>0.137001</td>\n",
       "    </tr>\n",
       "    <tr>\n",
       "      <th>148</th>\n",
       "      <td>1.900942</td>\n",
       "      <td>0.116628</td>\n",
       "      <td>0.723252</td>\n",
       "      <td>0.044595</td>\n",
       "    </tr>\n",
       "    <tr>\n",
       "      <th>149</th>\n",
       "      <td>1.390189</td>\n",
       "      <td>-0.282661</td>\n",
       "      <td>0.362910</td>\n",
       "      <td>-0.155039</td>\n",
       "    </tr>\n",
       "  </tbody>\n",
       "</table>\n",
       "<p>150 rows × 4 columns</p>\n",
       "</div>"
      ],
      "text/plain": [
       "          PC1       PC2       PC3       PC4\n",
       "0   -2.684126  0.319397 -0.027915  0.002262\n",
       "1   -2.714142 -0.177001 -0.210464  0.099027\n",
       "2   -2.888991 -0.144949  0.017900  0.019968\n",
       "3   -2.745343 -0.318299  0.031559 -0.075576\n",
       "4   -2.728717  0.326755  0.090079 -0.061259\n",
       "..        ...       ...       ...       ...\n",
       "145  1.944110  0.187532  0.177825  0.426196\n",
       "146  1.527167 -0.375317 -0.121898  0.254367\n",
       "147  1.764346  0.078859  0.130482  0.137001\n",
       "148  1.900942  0.116628  0.723252  0.044595\n",
       "149  1.390189 -0.282661  0.362910 -0.155039\n",
       "\n",
       "[150 rows x 4 columns]"
      ]
     },
     "execution_count": 48,
     "metadata": {},
     "output_type": "execute_result"
    }
   ],
   "source": [
    "#i don't like the column name , so i will rename them change pca0 to pca1 and pc1 to pca2, etc\n",
    "def rename_pca_to_PC1(col):\n",
    "    num = int(col[3:]) +1\n",
    "    return 'PC' + str(num)\n",
    "\n",
    "pca.transform(X_all).rename(columns=rename_pca_to_PC1)  \n"
   ]
  },
  {
   "cell_type": "code",
   "execution_count": 49,
   "id": "8a60473a",
   "metadata": {},
   "outputs": [
    {
     "data": {
      "text/plain": [
       "Text(0.5, 1.0, 'Scree Plot')"
      ]
     },
     "execution_count": 49,
     "metadata": {},
     "output_type": "execute_result"
    },
    {
     "data": {
      "image/png": "[encoded data removed]",
      "text/plain": [
       "<Figure size 800x600 with 1 Axes>"
      ]
     },
     "metadata": {},
     "output_type": "display_data"
    }
   ],
   "source": [
    "#screen plot of explained valiance ratio\n",
    "fig, ax = plt.subplots(figsize=(8, 6))\n",
    "ax.plot(range(1, len(pca.explained_variance_ratio_ ) +1), pca.explained_variance_ratio_, marker='o')\n",
    "ax.set_xlabel('Principal Component')\n",
    "ax.set_ylabel('Explained Variance Ratio')\n",
    "ax.set_title('Scree Plot')\n"
   ]
  },
  {
   "cell_type": "code",
   "execution_count": 50,
   "id": "9d88a385",
   "metadata": {},
   "outputs": [
    {
     "data": {
      "text/plain": [
       "array([0.92461872, 0.05306648, 0.01710261, 0.00521218])"
      ]
     },
     "execution_count": 50,
     "metadata": {},
     "output_type": "execute_result"
    }
   ],
   "source": [
    "pca.explained_variance_ratio_"
   ]
  },
  {
   "cell_type": "code",
   "execution_count": 51,
   "id": "96734639",
   "metadata": {},
   "outputs": [
    {
     "data": {
      "text/plain": [
       "array([0.92461872, 0.97768521, 0.99478782, 1.        ])"
      ]
     },
     "execution_count": 51,
     "metadata": {},
     "output_type": "execute_result"
    }
   ],
   "source": [
    "pca.explained_variance_ratio_.cumsum()\n"
   ]
  },
  {
   "cell_type": "code",
   "execution_count": 52,
   "id": "d42b7d94",
   "metadata": {},
   "outputs": [],
   "source": [
    "X_all = X_all.mean()\n"
   ]
  },
  {
   "cell_type": "code",
   "execution_count": 56,
   "id": "1b9b20f1",
   "metadata": {},
   "outputs": [
    {
     "data": {
      "application/vnd.microsoft.datawrangler.viewer.v0+json": {
       "columns": [
        {
         "name": "index",
         "rawType": "object",
         "type": "string"
        },
        {
         "name": "feature1",
         "rawType": "float64",
         "type": "float"
        },
        {
         "name": "feature2",
         "rawType": "float64",
         "type": "float"
        },
        {
         "name": "feature3",
         "rawType": "float64",
         "type": "float"
        },
        {
         "name": "feature4",
         "rawType": "float64",
         "type": "float"
        }
       ],
       "ref": "9f2d5bcb-eda8-4593-a501-416cafa09ea3",
       "rows": [
        [
         "PC1",
         "0.36138659178536736",
         "-0.08452251406456968",
         "0.8566706059498354",
         "0.3582891971515502"
        ],
        [
         "PC2",
         "0.6565887712868259",
         "0.7301614347850435",
         "-0.1733726627958514",
         "-0.07548101991745332"
        ],
        [
         "PC3",
         "-0.5820298513060375",
         "0.5979108301000221",
         "0.07623607582089986",
         "0.545831432020184"
        ],
        [
         "PC4",
         "0.3154871929040614",
         "-0.31972310366620976",
         "-0.47983898699464556",
         "0.7536574252639682"
        ]
       ],
       "shape": {
        "columns": 4,
        "rows": 4
       }
      },
      "text/html": [
       "<div>\n",
       "<style scoped>\n",
       "    .dataframe tbody tr th:only-of-type {\n",
       "        vertical-align: middle;\n",
       "    }\n",
       "\n",
       "    .dataframe tbody tr th {\n",
       "        vertical-align: top;\n",
       "    }\n",
       "\n",
       "    .dataframe thead th {\n",
       "        text-align: right;\n",
       "    }\n",
       "</style>\n",
       "<table border=\"1\" class=\"dataframe\">\n",
       "  <thead>\n",
       "    <tr style=\"text-align: right;\">\n",
       "      <th></th>\n",
       "      <th>feature1</th>\n",
       "      <th>feature2</th>\n",
       "      <th>feature3</th>\n",
       "      <th>feature4</th>\n",
       "    </tr>\n",
       "  </thead>\n",
       "  <tbody>\n",
       "    <tr>\n",
       "      <th>PC1</th>\n",
       "      <td>0.361387</td>\n",
       "      <td>-0.084523</td>\n",
       "      <td>0.856671</td>\n",
       "      <td>0.358289</td>\n",
       "    </tr>\n",
       "    <tr>\n",
       "      <th>PC2</th>\n",
       "      <td>0.656589</td>\n",
       "      <td>0.730161</td>\n",
       "      <td>-0.173373</td>\n",
       "      <td>-0.075481</td>\n",
       "    </tr>\n",
       "    <tr>\n",
       "      <th>PC3</th>\n",
       "      <td>-0.582030</td>\n",
       "      <td>0.597911</td>\n",
       "      <td>0.076236</td>\n",
       "      <td>0.545831</td>\n",
       "    </tr>\n",
       "    <tr>\n",
       "      <th>PC4</th>\n",
       "      <td>0.315487</td>\n",
       "      <td>-0.319723</td>\n",
       "      <td>-0.479839</td>\n",
       "      <td>0.753657</td>\n",
       "    </tr>\n",
       "  </tbody>\n",
       "</table>\n",
       "</div>"
      ],
      "text/plain": [
       "     feature1  feature2  feature3  feature4\n",
       "PC1  0.361387 -0.084523  0.856671  0.358289\n",
       "PC2  0.656589  0.730161 -0.173373 -0.075481\n",
       "PC3 -0.582030  0.597911  0.076236  0.545831\n",
       "PC4  0.315487 -0.319723 -0.479839  0.753657"
      ]
     },
     "execution_count": 56,
     "metadata": {},
     "output_type": "execute_result"
    }
   ],
   "source": [
    "import pandas as pd\n",
    "feature_names = ['feature1', 'feature2', 'feature3', 'feature4']  # replace with actual names\n",
    "\n",
    "components = pd.DataFrame(\n",
    "    pca.components_,\n",
    "    columns=feature_names,\n",
    "    index=[f'PC{i+1}' for i in range(pca.n_components_)]\n",
    ")\n",
    "\n",
    "components\n"
   ]
  },
  {
   "cell_type": "code",
   "execution_count": null,
   "id": "044d10e9",
   "metadata": {},
   "outputs": [
    {
     "data": {
      "application/vnd.microsoft.datawrangler.viewer.v0+json": {
       "columns": [
        {
         "name": "index",
         "rawType": "object",
         "type": "string"
        },
        {
         "name": "PC1",
         "rawType": "float64",
         "type": "float"
        }
       ],
       "ref": "19ee0e30-af56-4b8c-ba85-23e3515bcd19",
       "rows": [
        [
         "sepal length (cm)",
         "2.378833333333333"
        ],
        [
         "sepal width (cm)",
         "-0.4071666666666669"
        ],
        [
         "petal length (cm)",
         "0.29349999999999987"
        ],
        [
         "petal width (cm)",
         "-2.265166666666667"
        ]
       ],
       "shape": {
        "columns": 1,
        "rows": 4
       }
      },
      "text/html": [
       "<div>\n",
       "<style scoped>\n",
       "    .dataframe tbody tr th:only-of-type {\n",
       "        vertical-align: middle;\n",
       "    }\n",
       "\n",
       "    .dataframe tbody tr th {\n",
       "        vertical-align: top;\n",
       "    }\n",
       "\n",
       "    .dataframe thead th {\n",
       "        text-align: right;\n",
       "    }\n",
       "</style>\n",
       "<table border=\"1\" class=\"dataframe\">\n",
       "  <thead>\n",
       "    <tr style=\"text-align: right;\">\n",
       "      <th></th>\n",
       "      <th>PC1</th>\n",
       "    </tr>\n",
       "  </thead>\n",
       "  <tbody>\n",
       "    <tr>\n",
       "      <th>sepal length (cm)</th>\n",
       "      <td>2.378833</td>\n",
       "    </tr>\n",
       "    <tr>\n",
       "      <th>sepal width (cm)</th>\n",
       "      <td>-0.407167</td>\n",
       "    </tr>\n",
       "    <tr>\n",
       "      <th>petal length (cm)</th>\n",
       "      <td>0.293500</td>\n",
       "    </tr>\n",
       "    <tr>\n",
       "      <th>petal width (cm)</th>\n",
       "      <td>-2.265167</td>\n",
       "    </tr>\n",
       "  </tbody>\n",
       "</table>\n",
       "</div>"
      ],
      "text/plain": [
       "                        PC1\n",
       "sepal length (cm)  2.378833\n",
       "sepal width (cm)  -0.407167\n",
       "petal length (cm)  0.293500\n",
       "petal width (cm)  -2.265167"
      ]
     },
     "execution_count": 57,
     "metadata": {},
     "output_type": "execute_result"
    }
   ],
   "source": [
    "#manually calculate PCA with numpy\n",
    "import numpy as np\n",
    "nums = X_all - X_all.mean()\n",
    "vals , vecs = np.linalg.eig(nums.cov())\n",
    "idxs = pd.Series(vals).argsort()\n",
    "\n",
    "explained_variance = pd.Series(sorted(vals, reverse=True))\n",
    "\n",
    "def set_colname(df_):\n",
    "    df_.columns = [f'PC{i+1}' for i in range(len(df_.columns))]\n",
    "    return df_\n",
    "\n",
    "comps = (pd.DataFrame(vecs,index=nums.columns)\n",
    "            .iloc[:, idxs[::-1]]\n",
    "            .pipe(set_colname)\n",
    "\n",
    "            )\n",
    "\n",
    "pcas = nums.dot(comps)\n",
    "import plotly.io as pio\n",
    "pio.renderers.default = \"notebook\"  # or \"notebook_connected\"\n",
    "pcas"
   ]
  },
  {
   "cell_type": "code",
   "execution_count": 64,
   "id": "719abd69",
   "metadata": {},
   "outputs": [],
   "source": [
    "import plotly.io as pio\n",
    "pio.renderers.default = \"notebook\"  # or \"notebook_connected\"\n"
   ]
  },
  {
   "cell_type": "code",
   "execution_count": 84,
   "id": "d70c3766",
   "metadata": {},
   "outputs": [
    {
     "data": {
      "text/html": [
       "<div>            <script src=\"https://cdnjs.cloudflare.com/ajax/libs/mathjax/2.7.5/MathJax.js?config=TeX-AMS-MML_SVG\"></script><script type=\"text/javascript\">if (window.MathJax && window.MathJax.Hub && window.MathJax.Hub.Config) {window.MathJax.Hub.Config({SVG: {font: \"STIX-Web\"}});}</script>                    <div id=\"781d040f-037f-4cda-b223-b7873da08cd0\" class=\"plotly-graph-div\" style=\"height:525px; width:100%;\"></div>            <script type=\"text/javascript\">                window.PLOTLYENV=window.PLOTLYENV || {};                                if (document.getElementById(\"781d040f-037f-4cda-b223-b7873da08cd0\")) {                    Plotly.newPlot(                        \"781d040f-037f-4cda-b223-b7873da08cd0\",                        [{\"hovertemplate\":\"species=Setosa\\u003cbr\\u003ePC1=%{x}\\u003cbr\\u003ePC2=%{y}\\u003cbr\\u003ePC3=%{z}\\u003cextra\\u003e\\u003c\\u002fextra\\u003e\",\"legendgroup\":\"Setosa\",\"marker\":{\"color\":\"#636efa\",\"opacity\":0.8,\"symbol\":\"circle\"},\"mode\":\"markers\",\"name\":\"Setosa\",\"scene\":\"scene\",\"showlegend\":true,\"x\":{\"dtype\":\"f8\",\"bdata\":\"Wigv2xZ5BcB5Hb3qj7YFwDV\\u002fZBanHAfA\\u002fkuqUHb2BcDrcuRVadQFwGWrzlUzPwLAu4OkGHaQBsC9wbFLWAIFwJTkZdRPFwfA4q6uys1hBcB8N7lGOg4EwLGl6Tbs5gTAe+Gqp\\u002fNJBsCvAAWeWcoJwA0Td+RyKAXANff\\u002foZsWA8DQ3cEu\\u002fPwEwKC8+y62LwXAABzYZTuZAcDixq82MrQEwGrHTpxnewLA3miBIIJZBMBzBsFxProJwMma6F\\u002f\\u002fawLA4D8zlJXYAsD8K4ltqA0EwK4dDr0kwAPAeAM4lKF\\u002fBMDK3XlgxB0FwGUZrnNQDgXA1M74+P2yBMAsiWGwikcDwOscTbzeMAXAQGcifjbKBMAoQ3sebRgFwPtCchoQ7gbA2JOCznwABcDsNtISzWcGwHijnXQR2AfAdmn3OlW4BMCC4fJ1KykGwHU\\u002f09GBywbAC4iTSLD6B8CCOKLOsj4DwLwoibEIrQHABwpETzK3BcABZqasIE4EwOIK4vA3twbAxI9zVz1YBMAPnPMXe6AFwA==\"},\"y\":{\"dtype\":\"f8\",\"bdata\":\"IPwgJgFx1D+ArIDk+afGv+BFTuqzjcK\\u002fwC6PrgJf1L+wDbjCi+nUP0AiSKL6uOc\\u002fABzO+PDmtr8AAUhhzOnEP7D646aHgeK\\u002fwA8oGU8gvb\\u002fgl+uHZ6TkPwDQwve6Ko4\\u002fQL7hZyYYzr+wZ1EuWF3gv+Djsk443PI\\u002fCEnRC7Ro9T+YQh4qFvHpPzAYVB1W9dM\\u002faHjgIkzu6z\\u002fAQVMHFm\\u002fgPwCUw9LPC9k\\u002fACHFHjW22z8gNd1QexXBPwCLQMf7RLk\\u002fANAYoJsWo78gEzJfrrDCv+BQPrYEw8A\\u002f4FizrLSI1z+Q6omJdvjTP+Cm0IEGNsm\\u002fAMr+uhsnyr9g7P9IlUzaP+iZ\\u002fY8TB+o\\u002fWIlpaIZ98T\\u002fAn1s8+w6\\u002fvwDQ8LjewbE\\u002fCOAACgou4z\\u002fAhAeBdTHRP7BmyKK1Ot+\\u002f4NpC9k5RzT9wu8GWot3QP5ipU1lZHO6\\u002fwGmf1B3i1b8AvjNh8CzIP+BeLfZJ8ts\\u002fEKeKRWkD0L+oK8Sp5B7gPyBAHwdSLc2\\u002faOGs4oaK4j\\u002fASOo1oJK7Pw==\"},\"z\":{\"dtype\":\"f8\",\"bdata\":\"ALxHXrSVnL\\u002f4omtHfvDKv6D9891xVJI\\u002fYIsJ24wooD+AQTfgbg+3PwJ0ycA6l8U\\u002f6ZJmHE6B0D8AEyEriGeWv+AYdy3\\u002fQZU\\u002fuMM4dQdMyb9QTxWDCkizvxCWyvmEJro\\u002feAoS2OB5yr\\u002fA6Oqwq2KvP7hWjtuHaMO\\u002f32ksxhjH0T8ePE3u\\u002fK\\u002fBP2D+lF3wTps\\u002fADaCwFfMvr9u539fYVnLP2TFejcaps6\\u002fNhbsAbquyj\\u002fdE3rcoLbSP\\u002fCcoLn2B6Q\\u002f9HTC2rAAwD9SW4GyCDjQv2g0ZDwPTLg\\u002fsDL+OzIYtL\\u002fcj62HJK3Cv4Cmbmby36Q\\u002fQN2RxOLEs7+8ssHxj6DCv6rC4Qi64sw\\u002fdiVODCUzxD9oLL3dck\\u002fCv2QdYE3XCMW\\u002fNGLeDacs0b8gcuq+qfy3P2h7PsxYq7I\\u002fIKRyGEaAtL8Ig9E7gcazP0obU17KWda\\u002f0g4+UCSkyD+vWBxhNuPQP1Pbu+SZHtM\\u002fuLc1Um8Bub8aXqM8nFbFP9h6ZW4fb7U\\u002fQL+r1ZmGkb\\u002fYMSXe+Nu2vw==\"},\"type\":\"scatter3d\"},{\"hovertemplate\":\"species=Versicolor\\u003cbr\\u003ePC1=%{x}\\u003cbr\\u003ePC2=%{y}\\u003cbr\\u003ePC3=%{z}\\u003cextra\\u003e\\u003c\\u002fextra\\u003e\",\"legendgroup\":\"Versicolor\",\"marker\":{\"color\":\"#EF553B\",\"opacity\":0.8,\"symbol\":\"diamond\"},\"mode\":\"markers\",\"name\":\"Versicolor\",\"scene\":\"scene\",\"showlegend\":true,\"x\":{\"dtype\":\"f8\",\"bdata\":\"\\u002fFCrYaWO9D9gpcUw8tbtP+SOhkXIbfc\\u002fAM\\u002f\\u002fffR2xz+8rij23mjxP1jEd5qNiOQ\\u002fbEdSVF6F8T\\u002fIifMa0Pjnv9DL2ZLDtPA\\u002fAOw1RBzpgb84n3SGO0Dgv9i6NKfVX+A\\u002fcCsjB2D10D9ok+VglYTvP8CuqMMvQ8a\\u002fiLCsFwmx7T\\u002fALlJpCyHlP6BgXDywOM4\\u002fmL4oOkI77j+AJTOA\\u002fSenP+SxvL9L3PE\\u002fYJm60qTn1j\\u002f8xo10XMX0P8D+NafNfu0\\u002fKD4HFRTg5j+QGK98Os7sP2AbE9v4T\\u002fU\\u002fdFra88Hs+D9YfOMcegbqP6BcM0OvjtO\\u002fgMBs37xwsb+g5bmWjEXIv6BEMPt+dsE\\u002fCPadmZYU9j+IbH\\u002fj8tDiP4g9FobI0ek\\u002fWPupKfOH8z9YxpeaQhXqPwAdqI+Ke88\\u002fwIWhPgdNxT8wZne1Sb\\u002fdP9CXBuCOgew\\u002fADOs\\u002fpiCzT+AXx4whovmv0AqQenI2NY\\u002fwNfxHWo+1T\\u002fgx2TP6hPYP+h7NI\\u002f7j+Q\\u002fCHkYF80B7b9Q9VVt1CLTPw==\"},\"y\":{\"dtype\":\"f8\",\"bdata\":\"wGilptXs5T8wgGMNlF\\u002fUP+jwisXrIuA\\u002f+FbG5aN+6r8AjI\\u002feXxizP3CswoaOxNq\\u002fcI1XGVgk0j8EKGWLCBTwv8Asn3X2Os0\\u002fUGfKqXwj579c088Ba0H0vwC03aWDnrq\\u002f6K\\u002fjEeaZ4b8A+m0ZEPS\\u002fv2AJ6AaIT9C\\u002foDx\\u002f0kTm3T9Q5LAUDpfWv3DRRvngWdW\\u002fUCUyx3Jh4b\\u002f4tbBuxa7iv8Dz3TRzqbW\\u002fQJ\\u002fWJBKlsb\\u002fQolWed\\u002frUvyBqrLfzY8e\\u002fANor40MUwz8wUe2gNwbVP8DaJbDWSc8\\u002fQLGBOaUe0T8gXp+jqejEv+BbVpObkde\\u002fkCOEJcWQ5r+IKSi\\u002f6MTlvxB5CoMbGdS\\u002fAPFHQOrw2r8wvqupkP7ev+DKk1H32sg\\u002fMCjxfXAW2j8Qh02HdM\\u002fXv7DbavOAL9G\\u002feNix\\u002flfS5b+YR5cOeHblv4B+39pSpaG\\u002fwAcKLnXh2b9o7IoyKzLwv7CzSTY5KOC\\u002fADYXyEQ4y79w\\u002fexTGcTSvwAyscn1KZI\\u002fkH1It+ox6L\\u002fAaxZ3V1TWvw==\"},\"z\":{\"dtype\":\"f8\",\"bdata\":\"hOs+5TUF2r+g6gmaT3KSv0ou\\u002fxshp9W\\u002fYLFfydn8xr+mgNosTrLTv2D\\u002feOXsB6U\\u002fNA5diVe8xT8A2yreRTKJP4T7OM3dlNq\\u002fqgQdoTj+0T8cBPlJr0TRvyy27ObJtcA\\u002fnPPCaXM25r+wjLWwdc2vv8C0Vjc8KLc\\u002fJm11BMAi1L+mt6QsZ\\u002f7UPxyrui23WtG\\u002fvHkYvB7437+ITKyJjBTOv4lQnCluat0\\u002f2MQRKdprzb\\u002fK2K3mPkPWv1z6M5DCk82\\u002fyGBS9WKY1L+OiZL7xDzUv\\u002fSCHAfKseC\\u002fGCnNeyEcxb+QH5UjKSOiP3jxtIIqYtS\\u002fYJOF7GVCz79UHFD8ZJzTv4xDvBXkr8a\\u002foA\\u002fjjx2OkD9W53kzmXHcP\\u002fr01lTF5Ng\\u002fFBmSE31bzr\\u002fKPWMLy6vjv8YI1ldnHMg\\u002fAIEDfYe5rr\\u002fguIZ55eOYv8CJ0LsOX4S\\u002fJJ4sllBdzb8A1QM8kw67vwDpNmoXBJE\\u002fWJ9IXOBMtT\\u002fw\\u002fCChkfezPyBi+txhSsq\\u002fALudEdjNib8AfyBu1quFPw==\"},\"type\":\"scatter3d\"},{\"hovertemplate\":\"species=Virginica\\u003cbr\\u003ePC1=%{x}\\u003cbr\\u003ePC2=%{y}\\u003cbr\\u003ePC3=%{z}\\u003cextra\\u003e\\u003c\\u002fextra\\u003e\",\"legendgroup\":\"Virginica\",\"marker\":{\"color\":\"#00cc96\",\"opacity\":0.8,\"symbol\":\"square\"},\"mode\":\"markers\",\"name\":\"Virginica\",\"scene\":\"scene\",\"showlegend\":true,\"x\":{\"dtype\":\"f8\",\"bdata\":\"IFEO+eE\\u002fBEBIG+lfzqT2P7Bux9Xz7gRAhOs9JWSL\\u002fz8m\\u002fF\\u002fnz8wCQFDAFKUiLQtAgNImPu+t4D\\u002fEAJA18HUHQDq57WngkQJAXGHnh4FVB0DET7N+oJb6PwxxmAG82vw\\u002fbjOlyiFTAUAgck3S4on1P\\u002fhr9UX2X\\u002fk\\u002f\\u002fFdmP6d4\\u002fj\\u002fYzrcn7TH\\u002fP6S+Z0h95QtABB\\u002fYWHtdDkBA\\u002fIr4CtD0P9AXSswrbANApHp9yBsv8z8MXs4T1v8LQDSE1tViOPY\\u002fgp1z6BQ0AkDQay5EqOkEQNhV8nPZIvQ\\u002fXHULF3qo9D+Ag+6RJv0AQLzfQ1OhGgNA2B3\\u002f7767BkDsMb9ua9gJQDrvIT6HRgFArEuf0Ugb9z9Q2pr8LoD8PwTxBf+rnAhArsDsCWknAUC4OU0ySHv+P5grHYmPtfI\\u002f1MwnO2PcAECo+MaKY4MCQOx8sOGbwf4\\u002fSBvpX86k9j+8WAkoDYEEQGpMQZmXWQNAmJk23xIb\\u002fz8AvqJCRm\\u002f4PyCyGJPCOvw\\u002f8MYKwUFq\\u002fj+oRhWtNj72Pw==\"},\"y\":{\"dtype\":\"f8\",\"bdata\":\"AAyJGcUrhL9gu9T3tmXiv6BDAF2CAtY\\u002fAIyv71IBx7+A7pA2FZ2kv6D5Ajt0oOE\\u002f1MfHLIoV879QCqEVg8DWPwBZFOTeNc+\\u002fsHt3s6EM6T+gMLwoVwHPPwATHnEDmsu\\u002fAHtoGuuuyz9A2pgmstvovxC2Spq8ROG\\u002fgHyPnjaHvj+AFBVBlnmlP\\u002fzXGwvUz\\u002fI\\u002fwG3Wxvp30D+oOnt7Vlvov0C\\u002fagxdNNg\\u002f6EpDDxpl47\\u002fwNjw3r3vdP6CjJtXBKcq\\u002fwCsecHxw1T+wJBFm5\\u002fLhP0BgIhSRAMe\\u002fwMBCKf\\u002fdvb\\u002fgBqtdatjKv6A0aZeovN0\\u002fIDUT+GgE2D+QTLGHlPz1P+DORG\\u002fAz8u\\u002fYI\\u002fc4V5bwr+Ai9yeY\\u002f7fv4h0QEHMBOY\\u002fYLWCrZ\\u002ftwT8Aoc0l6z2pPwAaxqFmHsW\\u002fMDmxgpDT1z\\u002fgJfOW4oHHP8Ch2LxjMNo\\u002fYLvU97Zl4r\\u002fgMRc6gMjRP+Cb6kzQgdM\\u002fQHK8+Q4ByD\\u002fgQnSFMQXYv4AsKAkYMLQ\\u002fgMibc1TbvT9gqiHnHRfSvw==\"},\"z\":{\"dtype\":\"f8\",\"bdata\":\"aUUyckZT6D+owwzD8vbSP9AZOD+YXLy\\u002fyDBc+7fBuz9ZzR+W0kPSP9xMtgjNTNa\\u002fRvixewp24T+EMSYLNuXav14WU4SeSta\\u002f8teLb+0X2z9g2w23RwjPP0DsneaeRqO\\u002fQCmdiTAQoT+cN9ZisgrSPxm5JBwCIeQ\\u002fdfbJNmuy3j8QTtDBkZ+mP0IgVJx3I8E\\u002fyMTqF8lw4L8Sp7URZhTWv0I25h0aDMw\\u002fqDLEzR5h4D\\u002f6SE9Jglfivwg1lDmQhLC\\u002f0GfUeEhQ0j98IyaO9E7Kv\\u002fC+7alZeac\\u002fin4O0M+ZzT\\u002f4RTzIK7zDP5QfPUgaxdy\\u002f\\u002fL\\u002f5MfLt37+QL1X8B1O9v0rdt1\\u002fAuMo\\u002f9FvvBCudw78UH8QxxiDGv17wMhhYetW\\u002fvyv41CCE5z\\u002fCq1hsUsLEPyFQIjGZCdI\\u002fQKkT4DTymz86266sA6fUP7jzONoCFL0\\u002fqMMMw\\u002fL20j\\u002f5wPyGdbnSPzfL5dO4JOA\\u002fsn5W+vjCxj+wjJz1tzS\\u002fvzgYjkGfs8A\\u002f2gp\\u002fduAk5z\\u002fxfHtj6TnXPw==\"},\"type\":\"scatter3d\"}],                        {\"template\":{\"data\":{\"histogram2dcontour\":[{\"type\":\"histogram2dcontour\",\"colorbar\":{\"outlinewidth\":0,\"ticks\":\"\"},\"colorscale\":[[0.0,\"#0d0887\"],[0.1111111111111111,\"#46039f\"],[0.2222222222222222,\"#7201a8\"],[0.3333333333333333,\"#9c179e\"],[0.4444444444444444,\"#bd3786\"],[0.5555555555555556,\"#d8576b\"],[0.6666666666666666,\"#ed7953\"],[0.7777777777777778,\"#fb9f3a\"],[0.8888888888888888,\"#fdca26\"],[1.0,\"#f0f921\"]]}],\"choropleth\":[{\"type\":\"choropleth\",\"colorbar\":{\"outlinewidth\":0,\"ticks\":\"\"}}],\"histogram2d\":[{\"type\":\"histogram2d\",\"colorbar\":{\"outlinewidth\":0,\"ticks\":\"\"},\"colorscale\":[[0.0,\"#0d0887\"],[0.1111111111111111,\"#46039f\"],[0.2222222222222222,\"#7201a8\"],[0.3333333333333333,\"#9c179e\"],[0.4444444444444444,\"#bd3786\"],[0.5555555555555556,\"#d8576b\"],[0.6666666666666666,\"#ed7953\"],[0.7777777777777778,\"#fb9f3a\"],[0.8888888888888888,\"#fdca26\"],[1.0,\"#f0f921\"]]}],\"heatmap\":[{\"type\":\"heatmap\",\"colorbar\":{\"outlinewidth\":0,\"ticks\":\"\"},\"colorscale\":[[0.0,\"#0d0887\"],[0.1111111111111111,\"#46039f\"],[0.2222222222222222,\"#7201a8\"],[0.3333333333333333,\"#9c179e\"],[0.4444444444444444,\"#bd3786\"],[0.5555555555555556,\"#d8576b\"],[0.6666666666666666,\"#ed7953\"],[0.7777777777777778,\"#fb9f3a\"],[0.8888888888888888,\"#fdca26\"],[1.0,\"#f0f921\"]]}],\"contourcarpet\":[{\"type\":\"contourcarpet\",\"colorbar\":{\"outlinewidth\":0,\"ticks\":\"\"}}],\"contour\":[{\"type\":\"contour\",\"colorbar\":{\"outlinewidth\":0,\"ticks\":\"\"},\"colorscale\":[[0.0,\"#0d0887\"],[0.1111111111111111,\"#46039f\"],[0.2222222222222222,\"#7201a8\"],[0.3333333333333333,\"#9c179e\"],[0.4444444444444444,\"#bd3786\"],[0.5555555555555556,\"#d8576b\"],[0.6666666666666666,\"#ed7953\"],[0.7777777777777778,\"#fb9f3a\"],[0.8888888888888888,\"#fdca26\"],[1.0,\"#f0f921\"]]}],\"surface\":[{\"type\":\"surface\",\"colorbar\":{\"outlinewidth\":0,\"ticks\":\"\"},\"colorscale\":[[0.0,\"#0d0887\"],[0.1111111111111111,\"#46039f\"],[0.2222222222222222,\"#7201a8\"],[0.3333333333333333,\"#9c179e\"],[0.4444444444444444,\"#bd3786\"],[0.5555555555555556,\"#d8576b\"],[0.6666666666666666,\"#ed7953\"],[0.7777777777777778,\"#fb9f3a\"],[0.8888888888888888,\"#fdca26\"],[1.0,\"#f0f921\"]]}],\"mesh3d\":[{\"type\":\"mesh3d\",\"colorbar\":{\"outlinewidth\":0,\"ticks\":\"\"}}],\"scatter\":[{\"fillpattern\":{\"fillmode\":\"overlay\",\"size\":10,\"solidity\":0.2},\"type\":\"scatter\"}],\"parcoords\":[{\"type\":\"parcoords\",\"line\":{\"colorbar\":{\"outlinewidth\":0,\"ticks\":\"\"}}}],\"scatterpolargl\":[{\"type\":\"scatterpolargl\",\"marker\":{\"colorbar\":{\"outlinewidth\":0,\"ticks\":\"\"}}}],\"bar\":[{\"error_x\":{\"color\":\"#2a3f5f\"},\"error_y\":{\"color\":\"#2a3f5f\"},\"marker\":{\"line\":{\"color\":\"#E5ECF6\",\"width\":0.5},\"pattern\":{\"fillmode\":\"overlay\",\"size\":10,\"solidity\":0.2}},\"type\":\"bar\"}],\"scattergeo\":[{\"type\":\"scattergeo\",\"marker\":{\"colorbar\":{\"outlinewidth\":0,\"ticks\":\"\"}}}],\"scatterpolar\":[{\"type\":\"scatterpolar\",\"marker\":{\"colorbar\":{\"outlinewidth\":0,\"ticks\":\"\"}}}],\"histogram\":[{\"marker\":{\"pattern\":{\"fillmode\":\"overlay\",\"size\":10,\"solidity\":0.2}},\"type\":\"histogram\"}],\"scattergl\":[{\"type\":\"scattergl\",\"marker\":{\"colorbar\":{\"outlinewidth\":0,\"ticks\":\"\"}}}],\"scatter3d\":[{\"type\":\"scatter3d\",\"line\":{\"colorbar\":{\"outlinewidth\":0,\"ticks\":\"\"}},\"marker\":{\"colorbar\":{\"outlinewidth\":0,\"ticks\":\"\"}}}],\"scattermap\":[{\"type\":\"scattermap\",\"marker\":{\"colorbar\":{\"outlinewidth\":0,\"ticks\":\"\"}}}],\"scattermapbox\":[{\"type\":\"scattermapbox\",\"marker\":{\"colorbar\":{\"outlinewidth\":0,\"ticks\":\"\"}}}],\"scatterternary\":[{\"type\":\"scatterternary\",\"marker\":{\"colorbar\":{\"outlinewidth\":0,\"ticks\":\"\"}}}],\"scattercarpet\":[{\"type\":\"scattercarpet\",\"marker\":{\"colorbar\":{\"outlinewidth\":0,\"ticks\":\"\"}}}],\"carpet\":[{\"aaxis\":{\"endlinecolor\":\"#2a3f5f\",\"gridcolor\":\"white\",\"linecolor\":\"white\",\"minorgridcolor\":\"white\",\"startlinecolor\":\"#2a3f5f\"},\"baxis\":{\"endlinecolor\":\"#2a3f5f\",\"gridcolor\":\"white\",\"linecolor\":\"white\",\"minorgridcolor\":\"white\",\"startlinecolor\":\"#2a3f5f\"},\"type\":\"carpet\"}],\"table\":[{\"cells\":{\"fill\":{\"color\":\"#EBF0F8\"},\"line\":{\"color\":\"white\"}},\"header\":{\"fill\":{\"color\":\"#C8D4E3\"},\"line\":{\"color\":\"white\"}},\"type\":\"table\"}],\"barpolar\":[{\"marker\":{\"line\":{\"color\":\"#E5ECF6\",\"width\":0.5},\"pattern\":{\"fillmode\":\"overlay\",\"size\":10,\"solidity\":0.2}},\"type\":\"barpolar\"}],\"pie\":[{\"automargin\":true,\"type\":\"pie\"}]},\"layout\":{\"autotypenumbers\":\"strict\",\"colorway\":[\"#636efa\",\"#EF553B\",\"#00cc96\",\"#ab63fa\",\"#FFA15A\",\"#19d3f3\",\"#FF6692\",\"#B6E880\",\"#FF97FF\",\"#FECB52\"],\"font\":{\"color\":\"#2a3f5f\"},\"hovermode\":\"closest\",\"hoverlabel\":{\"align\":\"left\"},\"paper_bgcolor\":\"white\",\"plot_bgcolor\":\"#E5ECF6\",\"polar\":{\"bgcolor\":\"#E5ECF6\",\"angularaxis\":{\"gridcolor\":\"white\",\"linecolor\":\"white\",\"ticks\":\"\"},\"radialaxis\":{\"gridcolor\":\"white\",\"linecolor\":\"white\",\"ticks\":\"\"}},\"ternary\":{\"bgcolor\":\"#E5ECF6\",\"aaxis\":{\"gridcolor\":\"white\",\"linecolor\":\"white\",\"ticks\":\"\"},\"baxis\":{\"gridcolor\":\"white\",\"linecolor\":\"white\",\"ticks\":\"\"},\"caxis\":{\"gridcolor\":\"white\",\"linecolor\":\"white\",\"ticks\":\"\"}},\"coloraxis\":{\"colorbar\":{\"outlinewidth\":0,\"ticks\":\"\"}},\"colorscale\":{\"sequential\":[[0.0,\"#0d0887\"],[0.1111111111111111,\"#46039f\"],[0.2222222222222222,\"#7201a8\"],[0.3333333333333333,\"#9c179e\"],[0.4444444444444444,\"#bd3786\"],[0.5555555555555556,\"#d8576b\"],[0.6666666666666666,\"#ed7953\"],[0.7777777777777778,\"#fb9f3a\"],[0.8888888888888888,\"#fdca26\"],[1.0,\"#f0f921\"]],\"sequentialminus\":[[0.0,\"#0d0887\"],[0.1111111111111111,\"#46039f\"],[0.2222222222222222,\"#7201a8\"],[0.3333333333333333,\"#9c179e\"],[0.4444444444444444,\"#bd3786\"],[0.5555555555555556,\"#d8576b\"],[0.6666666666666666,\"#ed7953\"],[0.7777777777777778,\"#fb9f3a\"],[0.8888888888888888,\"#fdca26\"],[1.0,\"#f0f921\"]],\"diverging\":[[0,\"#8e0152\"],[0.1,\"#c51b7d\"],[0.2,\"#de77ae\"],[0.3,\"#f1b6da\"],[0.4,\"#fde0ef\"],[0.5,\"#f7f7f7\"],[0.6,\"#e6f5d0\"],[0.7,\"#b8e186\"],[0.8,\"#7fbc41\"],[0.9,\"#4d9221\"],[1,\"#276419\"]]},\"xaxis\":{\"gridcolor\":\"white\",\"linecolor\":\"white\",\"ticks\":\"\",\"title\":{\"standoff\":15},\"zerolinecolor\":\"white\",\"automargin\":true,\"zerolinewidth\":2},\"yaxis\":{\"gridcolor\":\"white\",\"linecolor\":\"white\",\"ticks\":\"\",\"title\":{\"standoff\":15},\"zerolinecolor\":\"white\",\"automargin\":true,\"zerolinewidth\":2},\"scene\":{\"xaxis\":{\"backgroundcolor\":\"#E5ECF6\",\"gridcolor\":\"white\",\"linecolor\":\"white\",\"showbackground\":true,\"ticks\":\"\",\"zerolinecolor\":\"white\",\"gridwidth\":2},\"yaxis\":{\"backgroundcolor\":\"#E5ECF6\",\"gridcolor\":\"white\",\"linecolor\":\"white\",\"showbackground\":true,\"ticks\":\"\",\"zerolinecolor\":\"white\",\"gridwidth\":2},\"zaxis\":{\"backgroundcolor\":\"#E5ECF6\",\"gridcolor\":\"white\",\"linecolor\":\"white\",\"showbackground\":true,\"ticks\":\"\",\"zerolinecolor\":\"white\",\"gridwidth\":2}},\"shapedefaults\":{\"line\":{\"color\":\"#2a3f5f\"}},\"annotationdefaults\":{\"arrowcolor\":\"#2a3f5f\",\"arrowhead\":0,\"arrowwidth\":1},\"geo\":{\"bgcolor\":\"white\",\"landcolor\":\"#E5ECF6\",\"subunitcolor\":\"white\",\"showland\":true,\"showlakes\":true,\"lakecolor\":\"white\"},\"title\":{\"x\":0.05},\"mapbox\":{\"style\":\"light\"}}},\"scene\":{\"domain\":{\"x\":[0.0,1.0],\"y\":[0.0,1.0]},\"xaxis\":{\"title\":{\"text\":\"PC1\"}},\"yaxis\":{\"title\":{\"text\":\"PC2\"}},\"zaxis\":{\"title\":{\"text\":\"PC3\"}}},\"legend\":{\"title\":{\"text\":\"species\"},\"tracegroupgap\":0},\"title\":{\"text\":\"3D PCA of Iris Dataset (Interactive)\"}},                        {\"responsive\": true}                    ).then(function(){\n",
       "                            \n",
       "var gd = document.getElementById('781d040f-037f-4cda-b223-b7873da08cd0');\n",
       "var x = new MutationObserver(function (mutations, observer) {{\n",
       "        var display = window.getComputedStyle(gd).display;\n",
       "        if (!display || display === 'none') {{\n",
       "            console.log([gd, 'removed!']);\n",
       "            Plotly.purge(gd);\n",
       "            observer.disconnect();\n",
       "        }}\n",
       "}});\n",
       "\n",
       "// Listen for the removal of the full notebook cells\n",
       "var notebookContainer = gd.closest('#notebook-container');\n",
       "if (notebookContainer) {{\n",
       "    x.observe(notebookContainer, {childList: true});\n",
       "}}\n",
       "\n",
       "// Listen for the clearing of the current output cell\n",
       "var outputEl = gd.closest('.output');\n",
       "if (outputEl) {{\n",
       "    x.observe(outputEl, {childList: true});\n",
       "}}\n",
       "\n",
       "                        })                };            </script>        </div>"
      ]
     },
     "metadata": {},
     "output_type": "display_data"
    }
   ],
   "source": [
    "import plotly.express as px\n",
    "from sklearn.datasets import load_iris\n",
    "from sklearn.decomposition import PCA\n",
    "import pandas as pd\n",
    "\n",
    "# Load Iris dataset\n",
    "iris = load_iris()\n",
    "X = pd.DataFrame(iris.data, columns=iris.feature_names)\n",
    "y = pd.Series(iris.target)\n",
    "\n",
    "# PCA (3D)\n",
    "pca = PCA(n_components=3)\n",
    "X_pca = pca.fit_transform(X)\n",
    "\n",
    "# DataFrame\n",
    "df_pca = X_pca.rename(columns={'pca0':'PC1','pca1':'PC2','pca2':'PC3'})\n",
    "df_pca['label'] = y\n",
    "\n",
    "df_pca['species'] = df_pca['label'].map({0:\"Setosa\", 1:\"Versicolor\", 2:\"Virginica\"})\n",
    "\n",
    "# 3D interactive scatter\n",
    "fig = px.scatter_3d(\n",
    "    df_pca,\n",
    "    x=\"PC1\", y=\"PC2\", z=\"PC3\",\n",
    "    color=\"species\",\n",
    "    symbol=\"species\",\n",
    "    size_max=10,\n",
    "    opacity=0.8,\n",
    "    title=\"3D PCA of Iris Dataset (Interactive)\"\n",
    ")\n",
    "\n",
    "fig.show()\n"
   ]
  }
 ],
 "metadata": {
  "kernelspec": {
   "display_name": "Python 3",
   "language": "python",
   "name": "python3"
  },
  "language_info": {
   "codemirror_mode": {
    "name": "ipython",
    "version": 3
   },
   "file_extension": ".py",
   "mimetype": "text/x-python",
   "name": "python",
   "nbconvert_exporter": "python",
   "pygments_lexer": "ipython3",
   "version": "3.12.1"
  }
 },
 "nbformat": 4,
 "nbformat_minor": 5
}
